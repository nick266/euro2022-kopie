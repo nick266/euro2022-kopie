{
 "cells": [
  {
   "cell_type": "code",
   "execution_count": 1,
   "metadata": {},
   "outputs": [
    {
     "name": "stderr",
     "output_type": "stream",
     "text": [
      "2024-01-04 19:14:29.338 WARNING streamlit.runtime.caching.cache_data_api: No runtime found, using MemoryCacheStorageManager\n",
      "2024-01-04 19:14:29.341 WARNING streamlit.runtime.caching.cache_data_api: No runtime found, using MemoryCacheStorageManager\n",
      "2024-01-04 19:14:29.342 WARNING streamlit.runtime.caching.cache_data_api: No runtime found, using MemoryCacheStorageManager\n"
     ]
    }
   ],
   "source": [
    "from opponent_analysis.data import Data\n",
    "import pandas as pd\n",
    "import matplotlib.pyplot as plt\n",
    "from mplsoccer import Pitch\n",
    "from mplsoccer.utils import FontManager\n",
    "import numpy as np"
   ]
  },
  {
   "cell_type": "code",
   "execution_count": 2,
   "metadata": {},
   "outputs": [
    {
     "name": "stderr",
     "output_type": "stream",
     "text": [
      "2024-01-04 19:14:32.009 \n",
      "  \u001b[33m\u001b[1mWarning:\u001b[0m to view this Streamlit app on a browser, run it with the following\n",
      "  command:\n",
      "\n",
      "    streamlit run /Users/borgwardt/Library/Caches/pypoetry/virtualenvs/euro2022-jflC4-0A-py3.11/lib/python3.11/site-packages/ipykernel_launcher.py [ARGUMENTS]\n",
      "2024-01-04 19:14:32.010 No runtime found, using MemoryCacheStorageManager\n",
      "2024-01-04 19:14:32.010 No runtime found, using MemoryCacheStorageManager\n",
      "2024-01-04 19:14:32.620 No runtime found, using MemoryCacheStorageManager\n"
     ]
    }
   ],
   "source": [
    "data=Data()\n",
    "df=data.get_data()"
   ]
  },
  {
   "cell_type": "code",
   "execution_count": 33,
   "metadata": {},
   "outputs": [
    {
     "data": {
      "text/html": [
       "<div>\n",
       "<style scoped>\n",
       "    .dataframe tbody tr th:only-of-type {\n",
       "        vertical-align: middle;\n",
       "    }\n",
       "\n",
       "    .dataframe tbody tr th {\n",
       "        vertical-align: top;\n",
       "    }\n",
       "\n",
       "    .dataframe thead th {\n",
       "        text-align: right;\n",
       "    }\n",
       "</style>\n",
       "<table border=\"1\" class=\"dataframe\">\n",
       "  <thead>\n",
       "    <tr style=\"text-align: right;\">\n",
       "      <th></th>\n",
       "      <th>player</th>\n",
       "      <th>team</th>\n",
       "      <th>match_id</th>\n",
       "      <th>location</th>\n",
       "      <th>pass_end_location</th>\n",
       "      <th>pass_outcome</th>\n",
       "      <th>freeze_frame</th>\n",
       "    </tr>\n",
       "  </thead>\n",
       "  <tbody>\n",
       "    <tr>\n",
       "      <th>6</th>\n",
       "      <td>Ramona Bachmann</td>\n",
       "      <td>Switzerland Women's</td>\n",
       "      <td>3835331</td>\n",
       "      <td>[60.0, 40.0]</td>\n",
       "      <td>[41.6, 36.5]</td>\n",
       "      <td>NaN</td>\n",
       "      <td>[{'teammate': True, 'actor': False, 'keeper': ...</td>\n",
       "    </tr>\n",
       "    <tr>\n",
       "      <th>7</th>\n",
       "      <td>Lia Wälti</td>\n",
       "      <td>Switzerland Women's</td>\n",
       "      <td>3835331</td>\n",
       "      <td>[41.8, 32.4]</td>\n",
       "      <td>[39.2, 8.5]</td>\n",
       "      <td>NaN</td>\n",
       "      <td>[{'teammate': True, 'actor': False, 'keeper': ...</td>\n",
       "    </tr>\n",
       "    <tr>\n",
       "      <th>8</th>\n",
       "      <td>Eseosa Aigbogun</td>\n",
       "      <td>Switzerland Women's</td>\n",
       "      <td>3835331</td>\n",
       "      <td>[38.6, 8.1]</td>\n",
       "      <td>[25.1, 20.7]</td>\n",
       "      <td>NaN</td>\n",
       "      <td>[{'teammate': True, 'actor': False, 'keeper': ...</td>\n",
       "    </tr>\n",
       "    <tr>\n",
       "      <th>9</th>\n",
       "      <td>Luana Bühler</td>\n",
       "      <td>Switzerland Women's</td>\n",
       "      <td>3835331</td>\n",
       "      <td>[25.5, 22.4]</td>\n",
       "      <td>[9.7, 33.7]</td>\n",
       "      <td>NaN</td>\n",
       "      <td>[{'teammate': True, 'actor': True, 'keeper': F...</td>\n",
       "    </tr>\n",
       "    <tr>\n",
       "      <th>10</th>\n",
       "      <td>Gaëlle Thalmann</td>\n",
       "      <td>Switzerland Women's</td>\n",
       "      <td>3835331</td>\n",
       "      <td>[10.3, 27.1]</td>\n",
       "      <td>[12.9, 7.6]</td>\n",
       "      <td>NaN</td>\n",
       "      <td>[{'teammate': True, 'actor': True, 'keeper': T...</td>\n",
       "    </tr>\n",
       "    <tr>\n",
       "      <th>...</th>\n",
       "      <td>...</td>\n",
       "      <td>...</td>\n",
       "      <td>...</td>\n",
       "      <td>...</td>\n",
       "      <td>...</td>\n",
       "      <td>...</td>\n",
       "      <td>...</td>\n",
       "    </tr>\n",
       "    <tr>\n",
       "      <th>98984</th>\n",
       "      <td>Ella Toone</td>\n",
       "      <td>England Women's</td>\n",
       "      <td>3835319</td>\n",
       "      <td>[56.2, 10.6]</td>\n",
       "      <td>[80.2, 4.4]</td>\n",
       "      <td>NaN</td>\n",
       "      <td>[{'teammate': True, 'actor': False, 'keeper': ...</td>\n",
       "    </tr>\n",
       "    <tr>\n",
       "      <th>98987</th>\n",
       "      <td>Laura Wienroither</td>\n",
       "      <td>Austria Women's</td>\n",
       "      <td>3835319</td>\n",
       "      <td>[13.9, 69.5]</td>\n",
       "      <td>[18.1, 66.4]</td>\n",
       "      <td>NaN</td>\n",
       "      <td>[{'teammate': True, 'actor': False, 'keeper': ...</td>\n",
       "    </tr>\n",
       "    <tr>\n",
       "      <th>98988</th>\n",
       "      <td>Sarah Puntigam</td>\n",
       "      <td>Austria Women's</td>\n",
       "      <td>3835319</td>\n",
       "      <td>[18.1, 66.4]</td>\n",
       "      <td>[25.2, 73.9]</td>\n",
       "      <td>NaN</td>\n",
       "      <td>[{'teammate': True, 'actor': False, 'keeper': ...</td>\n",
       "    </tr>\n",
       "    <tr>\n",
       "      <th>98990</th>\n",
       "      <td>Leah Williamson</td>\n",
       "      <td>England Women's</td>\n",
       "      <td>3835319</td>\n",
       "      <td>[42.1, 14.2]</td>\n",
       "      <td>[27.5, 33.5]</td>\n",
       "      <td>NaN</td>\n",
       "      <td>[{'teammate': True, 'actor': False, 'keeper': ...</td>\n",
       "    </tr>\n",
       "    <tr>\n",
       "      <th>98991</th>\n",
       "      <td>Mary Alexandra Earps</td>\n",
       "      <td>England Women's</td>\n",
       "      <td>3835319</td>\n",
       "      <td>[27.3, 30.6]</td>\n",
       "      <td>[54.3, 70.4]</td>\n",
       "      <td>NaN</td>\n",
       "      <td>[{'teammate': True, 'actor': True, 'keeper': T...</td>\n",
       "    </tr>\n",
       "  </tbody>\n",
       "</table>\n",
       "<p>18751 rows × 7 columns</p>\n",
       "</div>"
      ],
      "text/plain": [
       "                     player                 team  match_id      location  \\\n",
       "6           Ramona Bachmann  Switzerland Women's   3835331  [60.0, 40.0]   \n",
       "7                 Lia Wälti  Switzerland Women's   3835331  [41.8, 32.4]   \n",
       "8           Eseosa Aigbogun  Switzerland Women's   3835331   [38.6, 8.1]   \n",
       "9              Luana Bühler  Switzerland Women's   3835331  [25.5, 22.4]   \n",
       "10          Gaëlle Thalmann  Switzerland Women's   3835331  [10.3, 27.1]   \n",
       "...                     ...                  ...       ...           ...   \n",
       "98984            Ella Toone      England Women's   3835319  [56.2, 10.6]   \n",
       "98987     Laura Wienroither      Austria Women's   3835319  [13.9, 69.5]   \n",
       "98988        Sarah Puntigam      Austria Women's   3835319  [18.1, 66.4]   \n",
       "98990       Leah Williamson      England Women's   3835319  [42.1, 14.2]   \n",
       "98991  Mary Alexandra Earps      England Women's   3835319  [27.3, 30.6]   \n",
       "\n",
       "      pass_end_location pass_outcome  \\\n",
       "6          [41.6, 36.5]          NaN   \n",
       "7           [39.2, 8.5]          NaN   \n",
       "8          [25.1, 20.7]          NaN   \n",
       "9           [9.7, 33.7]          NaN   \n",
       "10          [12.9, 7.6]          NaN   \n",
       "...                 ...          ...   \n",
       "98984       [80.2, 4.4]          NaN   \n",
       "98987      [18.1, 66.4]          NaN   \n",
       "98988      [25.2, 73.9]          NaN   \n",
       "98990      [27.5, 33.5]          NaN   \n",
       "98991      [54.3, 70.4]          NaN   \n",
       "\n",
       "                                            freeze_frame  \n",
       "6      [{'teammate': True, 'actor': False, 'keeper': ...  \n",
       "7      [{'teammate': True, 'actor': False, 'keeper': ...  \n",
       "8      [{'teammate': True, 'actor': False, 'keeper': ...  \n",
       "9      [{'teammate': True, 'actor': True, 'keeper': F...  \n",
       "10     [{'teammate': True, 'actor': True, 'keeper': T...  \n",
       "...                                                  ...  \n",
       "98984  [{'teammate': True, 'actor': False, 'keeper': ...  \n",
       "98987  [{'teammate': True, 'actor': False, 'keeper': ...  \n",
       "98988  [{'teammate': True, 'actor': False, 'keeper': ...  \n",
       "98990  [{'teammate': True, 'actor': False, 'keeper': ...  \n",
       "98991  [{'teammate': True, 'actor': True, 'keeper': T...  \n",
       "\n",
       "[18751 rows x 7 columns]"
      ]
     },
     "execution_count": 33,
     "metadata": {},
     "output_type": "execute_result"
    }
   ],
   "source": [
    "df_passes=df[[\"player\",\"team\",\"match_id\",\"location\",\"pass_end_location\",\"pass_outcome\",\"freeze_frame\"]].dropna(subset=[\"location\",\"pass_end_location\",\"freeze_frame\"],axis=0)\n",
    "df_passes_complete=df_passes[df_passes[\"pass_outcome\"].isnull()]\n",
    "df_passes_complete"
   ]
  },
  {
   "cell_type": "code",
   "execution_count": 25,
   "metadata": {},
   "outputs": [],
   "source": [
    "def get_passed_opponents(row):\n",
    "    passed_opponents=0\n",
    "    for player in row[\"freeze_frame\"]:\n",
    "        if not player[\"teammate\"]:\n",
    "            if row[\"location\"][0]<player[\"location\"][0]<row[\"pass_end_location\"][0]:\n",
    "                passed_opponents=passed_opponents+1\n",
    "    return passed_opponents"
   ]
  },
  {
   "cell_type": "code",
   "execution_count": 27,
   "metadata": {},
   "outputs": [
    {
     "name": "stderr",
     "output_type": "stream",
     "text": [
      "/var/folders/yj/8c2nhrwn40d8djrpr9f3vjm9t51h_p/T/ipykernel_3640/4246607473.py:1: SettingWithCopyWarning: \n",
      "A value is trying to be set on a copy of a slice from a DataFrame.\n",
      "Try using .loc[row_indexer,col_indexer] = value instead\n",
      "\n",
      "See the caveats in the documentation: https://pandas.pydata.org/pandas-docs/stable/user_guide/indexing.html#returning-a-view-versus-a-copy\n",
      "  df_passes_complete[\"passed_opponents\"]=df_passes_complete.apply(get_passed_opponents,axis=1)\n"
     ]
    }
   ],
   "source": [
    "df_passes_complete[\"passed_opponents\"]=df_passes_complete.apply(get_passed_opponents,axis=1)"
   ]
  },
  {
   "cell_type": "code",
   "execution_count": 32,
   "metadata": {},
   "outputs": [
    {
     "data": {
      "text/plain": [
       "team                 player                     \n",
       "England Women's      Leah Williamson                666\n",
       "Spain Women's        María Pilar León Cebrián       616\n",
       "                     Irene Paredes Hernandez        537\n",
       "France Women's       Wendie Renard                  506\n",
       "England Women's      Keira Walsh                    500\n",
       "                                                   ... \n",
       "Switzerland Women's  Lara Marti                       0\n",
       "Iceland Women's      Amanda Jacobsen Andradóttir      0\n",
       "Germany Women's      Laura Freigang                   0\n",
       "WNT Finland          Amanda Rantanen                  0\n",
       "                     Jenny Danielsson                 0\n",
       "Name: passed_opponents, Length: 303, dtype: int64"
      ]
     },
     "execution_count": 32,
     "metadata": {},
     "output_type": "execute_result"
    }
   ],
   "source": [
    "df_passes_complete.groupby([\"team\",\"player\"]).passed_opponents.sum().sort_values(ascending=False)"
   ]
  },
  {
   "cell_type": "code",
   "execution_count": null,
   "metadata": {},
   "outputs": [],
   "source": []
  }
 ],
 "metadata": {
  "kernelspec": {
   "display_name": "euro2022-jflC4-0A-py3.11",
   "language": "python",
   "name": "python3"
  },
  "language_info": {
   "codemirror_mode": {
    "name": "ipython",
    "version": 3
   },
   "file_extension": ".py",
   "mimetype": "text/x-python",
   "name": "python",
   "nbconvert_exporter": "python",
   "pygments_lexer": "ipython3",
   "version": "3.11.1"
  },
  "orig_nbformat": 4
 },
 "nbformat": 4,
 "nbformat_minor": 2
}
